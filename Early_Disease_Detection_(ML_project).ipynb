{
  "nbformat": 4,
  "nbformat_minor": 0,
  "metadata": {
    "colab": {
      "provenance": [],
      "authorship_tag": "ABX9TyMyZqny3p8etHkal/KvnfXs",
      "include_colab_link": true
    },
    "kernelspec": {
      "name": "python3",
      "display_name": "Python 3"
    },
    "language_info": {
      "name": "python"
    }
  },
  "cells": [
    {
      "cell_type": "markdown",
      "metadata": {
        "id": "view-in-github",
        "colab_type": "text"
      },
      "source": [
        "<a href=\"https://colab.research.google.com/github/ishaanrai-hub/ML-projects/blob/main/Early_Disease_Detection_(ML_project).ipynb\" target=\"_parent\"><img src=\"https://colab.research.google.com/assets/colab-badge.svg\" alt=\"Open In Colab\"/></a>"
      ]
    },
    {
      "cell_type": "code",
      "execution_count": 1,
      "metadata": {
        "id": "1q6GS0xxlk59"
      },
      "outputs": [],
      "source": [
        "# Step 1: Import required libraries\n",
        "import pandas as pd\n",
        "import numpy as np\n",
        "import matplotlib.pyplot as plt\n",
        "import seaborn as sns"
      ]
    },
    {
      "cell_type": "code",
      "source": [
        "from sklearn.model_selection import train_test_split\n",
        "from sklearn.preprocessing import StandardScaler\n",
        "from sklearn.linear_model import LogisticRegression\n",
        "from sklearn.tree import DecisionTreeClassifier\n",
        "from sklearn.svm import SVC\n",
        "from sklearn.metrics import accuracy_score, precision_score, recall_score, f1_score, classification_report"
      ],
      "metadata": {
        "id": "lLirQVQWl2Lk"
      },
      "execution_count": 2,
      "outputs": []
    },
    {
      "cell_type": "code",
      "source": [
        "# Step 2: Load the dataset\n",
        "# Replace below with your actual file\n",
        "df = pd.read_excel(\"Data_file (2).xlsx\")"
      ],
      "metadata": {
        "id": "RqZrs9WKl5zK"
      },
      "execution_count": 5,
      "outputs": []
    },
    {
      "cell_type": "code",
      "source": [
        "# Step 3: Basic EDA\n",
        "print(df.head())\n",
        "print(df.info())\n",
        "print(df.describe())\n",
        "print(df.isnull().sum())"
      ],
      "metadata": {
        "colab": {
          "base_uri": "https://localhost:8080/"
        },
        "id": "onaipivhmQ92",
        "outputId": "d54c8d31-20df-4f0a-b7ee-bd1fde128010"
      },
      "execution_count": 6,
      "outputs": [
        {
          "output_type": "stream",
          "name": "stdout",
          "text": [
            "                  date    country  id  active    age  alco  ap_hi  ap_lo  \\\n",
            "0  2021-03-05 00:00:00  Indonesia   0       1  18393     0    110     80   \n",
            "1  2021-05-08 00:00:00   Malaysia   1       1  20228     0    140     90   \n",
            "2           13-11-2022  Indonesia   2       0  18857     0    130     70   \n",
            "3           31-10-2018  Singapore   3       1  17623     0    150    100   \n",
            "4           25-09-2020  Singapore   4       0  17474     0    100     60   \n",
            "\n",
            "   cholesterol  gender  gluc  height  occupation  smoke  weight  disease  \n",
            "0            1       2     1     168   Architect      0    62.0        0  \n",
            "1            3       1     1     156  Accountant      0    85.0        1  \n",
            "2            3       1     1     165        Chef      0    64.0        1  \n",
            "3            1       2     1     169      Lawyer      0    82.0        1  \n",
            "4            1       1     1     156   Architect      0    56.0        0  \n",
            "<class 'pandas.core.frame.DataFrame'>\n",
            "RangeIndex: 70000 entries, 0 to 69999\n",
            "Data columns (total 16 columns):\n",
            " #   Column       Non-Null Count  Dtype  \n",
            "---  ------       --------------  -----  \n",
            " 0   date         70000 non-null  object \n",
            " 1   country      70000 non-null  object \n",
            " 2   id           70000 non-null  int64  \n",
            " 3   active       70000 non-null  int64  \n",
            " 4   age          70000 non-null  int64  \n",
            " 5   alco         70000 non-null  int64  \n",
            " 6   ap_hi        70000 non-null  int64  \n",
            " 7   ap_lo        70000 non-null  int64  \n",
            " 8   cholesterol  70000 non-null  int64  \n",
            " 9   gender       70000 non-null  int64  \n",
            " 10  gluc         70000 non-null  int64  \n",
            " 11  height       70000 non-null  int64  \n",
            " 12  occupation   70000 non-null  object \n",
            " 13  smoke        70000 non-null  int64  \n",
            " 14  weight       70000 non-null  float64\n",
            " 15  disease      70000 non-null  int64  \n",
            "dtypes: float64(1), int64(12), object(3)\n",
            "memory usage: 8.5+ MB\n",
            "None\n",
            "                 id        active           age          alco         ap_hi  \\\n",
            "count  70000.000000  70000.000000  70000.000000  70000.000000  70000.000000   \n",
            "mean   49972.419900      0.803729  19468.865814      0.053771    128.817286   \n",
            "std    28851.302323      0.397179   2467.251667      0.225568    154.011419   \n",
            "min        0.000000      0.000000  10798.000000      0.000000   -150.000000   \n",
            "25%    25006.750000      1.000000  17664.000000      0.000000    120.000000   \n",
            "50%    50001.500000      1.000000  19703.000000      0.000000    120.000000   \n",
            "75%    74889.250000      1.000000  21327.000000      0.000000    140.000000   \n",
            "max    99999.000000      1.000000  23713.000000      1.000000  16020.000000   \n",
            "\n",
            "              ap_lo   cholesterol        gender          gluc        height  \\\n",
            "count  70000.000000  70000.000000  70000.000000  70000.000000  70000.000000   \n",
            "mean      96.630414      1.366871      1.349571      1.226457    164.359229   \n",
            "std      188.472530      0.680250      0.476838      0.572270      8.210126   \n",
            "min      -70.000000      1.000000      1.000000      1.000000     55.000000   \n",
            "25%       80.000000      1.000000      1.000000      1.000000    159.000000   \n",
            "50%       80.000000      1.000000      1.000000      1.000000    165.000000   \n",
            "75%       90.000000      2.000000      2.000000      1.000000    170.000000   \n",
            "max    11000.000000      3.000000      2.000000      3.000000    250.000000   \n",
            "\n",
            "              smoke        weight       disease  \n",
            "count  70000.000000  70000.000000  70000.000000  \n",
            "mean       0.088129     74.205690      0.499700  \n",
            "std        0.283484     14.395757      0.500003  \n",
            "min        0.000000     10.000000      0.000000  \n",
            "25%        0.000000     65.000000      0.000000  \n",
            "50%        0.000000     72.000000      0.000000  \n",
            "75%        0.000000     82.000000      1.000000  \n",
            "max        1.000000    200.000000      1.000000  \n",
            "date           0\n",
            "country        0\n",
            "id             0\n",
            "active         0\n",
            "age            0\n",
            "alco           0\n",
            "ap_hi          0\n",
            "ap_lo          0\n",
            "cholesterol    0\n",
            "gender         0\n",
            "gluc           0\n",
            "height         0\n",
            "occupation     0\n",
            "smoke          0\n",
            "weight         0\n",
            "disease        0\n",
            "dtype: int64\n"
          ]
        }
      ]
    },
    {
      "cell_type": "code",
      "source": [
        "df = pd.get_dummies(df, drop_first=True)"
      ],
      "metadata": {
        "id": "R7aldjcMmUjk"
      },
      "execution_count": 7,
      "outputs": []
    },
    {
      "cell_type": "code",
      "source": [
        "# Step 6: Split into features and target\n",
        "X = df.drop(\"disease\", axis=1)\n",
        "y = df[\"disease\"]"
      ],
      "metadata": {
        "id": "JTidHbkmmXXs"
      },
      "execution_count": 8,
      "outputs": []
    },
    {
      "cell_type": "code",
      "source": [
        "# Step 7: Train-test split\n",
        "X_train, X_test, y_train, y_test = train_test_split(X, y, test_size=0.2, random_state=42)"
      ],
      "metadata": {
        "id": "gEE9TN7gmZP9"
      },
      "execution_count": 9,
      "outputs": []
    },
    {
      "cell_type": "code",
      "source": [
        "# Step 8: Feature scaling\n",
        "scaler = StandardScaler()\n",
        "X_train_scaled = scaler.fit_transform(X_train)\n",
        "X_test_scaled = scaler.transform(X_test)\n"
      ],
      "metadata": {
        "id": "rdEl6ERZmbfm"
      },
      "execution_count": 10,
      "outputs": []
    },
    {
      "cell_type": "code",
      "source": [
        "# Step 9: Model training\n",
        "lr = LogisticRegression()\n",
        "lr.fit(X_train_scaled, y_train)\n",
        "y_pred_lr = lr.predict(X_test_scaled)"
      ],
      "metadata": {
        "id": "HAWuakGXmhs9"
      },
      "execution_count": 12,
      "outputs": []
    },
    {
      "cell_type": "code",
      "source": [
        "# Decision Tree (doesn’t need scaling)\n",
        "dt = DecisionTreeClassifier()\n",
        "dt.fit(X_train, y_train)\n",
        "y_pred_dt = dt.predict(X_test)"
      ],
      "metadata": {
        "id": "YPcxP0CJmohO"
      },
      "execution_count": 13,
      "outputs": []
    },
    {
      "cell_type": "code",
      "source": [
        "def evaluate_model(y_test, y_pred, model_name):\n",
        "    print(f\"\\nModel: {model_name}\")\n",
        "    print(\"Accuracy :\", accuracy_score(y_test, y_pred))\n",
        "    print(\"Precision:\", precision_score(y_test, y_pred))\n",
        "    print(\"Recall   :\", recall_score(y_test, y_pred))\n",
        "    print(\"F1 Score :\", f1_score(y_test, y_pred))\n",
        "    print(\"\\n\", classification_report(y_test, y_pred))"
      ],
      "metadata": {
        "id": "VMR2IH_XmsTY"
      },
      "execution_count": 14,
      "outputs": []
    },
    {
      "cell_type": "code",
      "source": [
        "# Step 11: Evaluate each model\n",
        "evaluate_model(y_test, y_pred_lr, \"Logistic Regression\")\n",
        "evaluate_model(y_test, y_pred_dt, \"Decision Tree\")"
      ],
      "metadata": {
        "colab": {
          "base_uri": "https://localhost:8080/"
        },
        "id": "hraoy6qam9oa",
        "outputId": "e1b45cce-e7b4-4147-c7b6-3a5db87cd206"
      },
      "execution_count": 15,
      "outputs": [
        {
          "output_type": "stream",
          "name": "stdout",
          "text": [
            "\n",
            "Model: Logistic Regression\n",
            "Accuracy : 0.7045\n",
            "Precision: 0.715484934792385\n",
            "Recall   : 0.6806902452937821\n",
            "F1 Score : 0.6976540232405174\n",
            "\n",
            "               precision    recall  f1-score   support\n",
            "\n",
            "           0       0.69      0.73      0.71      6988\n",
            "           1       0.72      0.68      0.70      7012\n",
            "\n",
            "    accuracy                           0.70     14000\n",
            "   macro avg       0.70      0.70      0.70     14000\n",
            "weighted avg       0.71      0.70      0.70     14000\n",
            "\n",
            "\n",
            "Model: Decision Tree\n",
            "Accuracy : 0.6655714285714286\n",
            "Precision: 0.669380633905205\n",
            "Recall   : 0.6565887050770108\n",
            "F1 Score : 0.662922966162707\n",
            "\n",
            "               precision    recall  f1-score   support\n",
            "\n",
            "           0       0.66      0.67      0.67      6988\n",
            "           1       0.67      0.66      0.66      7012\n",
            "\n",
            "    accuracy                           0.67     14000\n",
            "   macro avg       0.67      0.67      0.67     14000\n",
            "weighted avg       0.67      0.67      0.67     14000\n",
            "\n"
          ]
        }
      ]
    },
    {
      "cell_type": "code",
      "source": [
        "feature_importance = pd.Series(dt.feature_importances_, index=X.columns)\n",
        "feature_importance = feature_importance.sort_values(ascending=False).head(15)\n",
        "\n",
        "plt.figure(figsize=(10, 8))\n",
        "feature_importance.plot(kind='barh')\n",
        "plt.title(\"Top 15 Feature Importances (Decision Tree)\")\n",
        "plt.xlabel(\"Importance Score\")\n",
        "plt.ylabel(\"Features\")\n",
        "plt.tight_layout()\n",
        "plt.show()"
      ],
      "metadata": {
        "colab": {
          "base_uri": "https://localhost:8080/",
          "height": 807
        },
        "id": "r417XsE4nDNS",
        "outputId": "9a765502-3e79-49c8-bcf4-9f46ad87fdea"
      },
      "execution_count": 17,
      "outputs": [
        {
          "output_type": "display_data",
          "data": {
            "text/plain": [
              "<Figure size 1000x800 with 1 Axes>"
            ],
            "image/png": "[encoded data removed]"
          },
          "metadata": {}
        }
      ]
    },
    {
      "cell_type": "code",
      "source": [
        "# This graph shows which health features (e.g., cholesterol, age, blood pressure, etc.) contribute the most to the model predicting heart disease.\n",
        "\n",
        "# That means doctors or health professionals can:\n",
        "\n",
        "# Focus on those top features for early diagnosis\n",
        "\n",
        "# Prioritize tests or interventions for high-risk patients"
      ],
      "metadata": {
        "id": "nVkS4KZSoda9"
      },
      "execution_count": null,
      "outputs": []
    },
    {
      "cell_type": "code",
      "source": [
        "# \"In this project, you will build a classification model to predict whether an individual is likely to have heart disease or not... The goal is to train a model to identify which individuals have heart disease based on health indicators.\"\n",
        "\n",
        "# That clearly shows the project is:\n",
        "\n",
        "# Using machine learning\n",
        "\n",
        "# To predict if a person has heart disease\n",
        "\n",
        "# Before it causes serious problems\n",
        "\n",
        "# ✅ That’s exactly what Early Disease Detection means:\n",
        "# Identifying signs of disease early, using data, before severe symptoms appear.\n",
        "\n",
        "# So, your project is helping to detect the disease early using health features like:\n",
        "\n",
        "# Age\n",
        "\n",
        "# Cholesterol\n",
        "\n",
        "# Blood pressure\n",
        "\n",
        "# Lifestyle habits\n",
        "\n",
        "# Hence, the final conclusion refers to the value of ML in detecting diseases early, making it an Early Disease Detection project.\n",
        "\n",
        "# Let me know if you want help framing that in a line for your report"
      ],
      "metadata": {
        "id": "4_gF2W4PoubW"
      },
      "execution_count": null,
      "outputs": []
    }
  ]
}